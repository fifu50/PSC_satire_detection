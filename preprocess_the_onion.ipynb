{
 "cells": [
  {
   "cell_type": "code",
   "execution_count": 1,
   "metadata": {},
   "outputs": [],
   "source": [
    "import numpy as np\n",
    "import pandas as pd\n",
    "\n",
    "import os\n",
    "\n",
    "import matplotlib.pyplot as plt\n",
    "import seaborn as sns\n",
    "sns.set()"
   ]
  },
  {
   "cell_type": "code",
   "execution_count": null,
   "metadata": {},
   "outputs": [],
   "source": [
    "#import and group all datasets \n",
    "def group_dataset():\n",
    "    data_path = 'the_onion/articles_'\n",
    "    df = pd.DataFrame()\n",
    "    for year in range(2003, 2024):\n",
    "        dfyear = pd.read_csv(data_path + str(year) + '.csv')\n",
    "        df = df.append(dfyear, ignore_index=True)\n",
    "    df.to_csv('the_onion/articles.csv', index=False)\n",
    "    return df\n",
    "\n",
    "#Preprocess the dataset\n",
    "if not os.path.exists('the_onion/articles.csv'):\n",
    "    df = group_dataset()\n",
    "    df.dropna(inplace=True)\n",
    "    df.drop_duplicates(inplace=True)\n",
    "    df.to_csv('the_onion/articles.csv', index=False)"
   ]
  },
  {
   "cell_type": "code",
   "execution_count": 4,
   "metadata": {},
   "outputs": [],
   "source": [
    "df = pd.read_csv('the_onion/articles.csv')"
   ]
  },
  {
   "cell_type": "code",
   "execution_count": 10,
   "metadata": {},
   "outputs": [
    {
     "data": {
      "text/html": [
       "<div>\n",
       "<style scoped>\n",
       "    .dataframe tbody tr th:only-of-type {\n",
       "        vertical-align: middle;\n",
       "    }\n",
       "\n",
       "    .dataframe tbody tr th {\n",
       "        vertical-align: top;\n",
       "    }\n",
       "\n",
       "    .dataframe thead th {\n",
       "        text-align: right;\n",
       "    }\n",
       "</style>\n",
       "<table border=\"1\" class=\"dataframe\">\n",
       "  <thead>\n",
       "    <tr style=\"text-align: right;\">\n",
       "      <th></th>\n",
       "      <th>0</th>\n",
       "      <th>headline</th>\n",
       "      <th>date</th>\n",
       "      <th>theme</th>\n",
       "      <th>article</th>\n",
       "    </tr>\n",
       "  </thead>\n",
       "  <tbody>\n",
       "    <tr>\n",
       "      <th>0</th>\n",
       "      <td>https://www.theonion.com/debate-team-state-fin...</td>\n",
       "      <td>Debate Team State Finalists Live It Up In Supe...</td>\n",
       "      <td>2003-01-29</td>\n",
       "      <td>News</td>\n",
       "      <td>OSHKOSH, WI—The 16 members of the Abbotsford H...</td>\n",
       "    </tr>\n",
       "    <tr>\n",
       "      <th>1</th>\n",
       "      <td>https://www.theonion.com/new-movie-taps-into-n...</td>\n",
       "      <td>New Movie Taps Into Nation's Love Of Rapping K...</td>\n",
       "      <td>2003-01-29</td>\n",
       "      <td>Entertainment</td>\n",
       "      <td>HOLLYWOOD, CA—The new Jerry Bruckheimer comedy...</td>\n",
       "    </tr>\n",
       "    <tr>\n",
       "      <th>2</th>\n",
       "      <td>https://www.theonion.com/aol-time-warner-turmo...</td>\n",
       "      <td>AOL/Time Warner Turmoil Over-Reported, Says Time</td>\n",
       "      <td>2003-01-29</td>\n",
       "      <td>News In Brief</td>\n",
       "      <td>NEW YORK—According to the Feb. 3 issue of Time...</td>\n",
       "    </tr>\n",
       "    <tr>\n",
       "      <th>3</th>\n",
       "      <td>https://www.theonion.com/man-totally-proud-of-...</td>\n",
       "      <td>Man Totally Proud Of Last Night's Drunken Phon...</td>\n",
       "      <td>2003-01-29</td>\n",
       "      <td>News In Brief</td>\n",
       "      <td>ENID, OK—Andrew Colquitt expressed pride Monda...</td>\n",
       "    </tr>\n",
       "    <tr>\n",
       "      <th>4</th>\n",
       "      <td>https://www.theonion.com/real-world-producers-...</td>\n",
       "      <td>Real World Producers Still Looking To Fill Eat...</td>\n",
       "      <td>2003-01-29</td>\n",
       "      <td>Entertainment</td>\n",
       "      <td>VAN NUYS, CA—Jonathan Murray, co-executive pro...</td>\n",
       "    </tr>\n",
       "  </tbody>\n",
       "</table>\n",
       "</div>"
      ],
      "text/plain": [
       "                                                   0  \\\n",
       "0  https://www.theonion.com/debate-team-state-fin...   \n",
       "1  https://www.theonion.com/new-movie-taps-into-n...   \n",
       "2  https://www.theonion.com/aol-time-warner-turmo...   \n",
       "3  https://www.theonion.com/man-totally-proud-of-...   \n",
       "4  https://www.theonion.com/real-world-producers-...   \n",
       "\n",
       "                                            headline        date  \\\n",
       "0  Debate Team State Finalists Live It Up In Supe...  2003-01-29   \n",
       "1  New Movie Taps Into Nation's Love Of Rapping K...  2003-01-29   \n",
       "2   AOL/Time Warner Turmoil Over-Reported, Says Time  2003-01-29   \n",
       "3  Man Totally Proud Of Last Night's Drunken Phon...  2003-01-29   \n",
       "4  Real World Producers Still Looking To Fill Eat...  2003-01-29   \n",
       "\n",
       "           theme                                            article  \n",
       "0           News  OSHKOSH, WI—The 16 members of the Abbotsford H...  \n",
       "1  Entertainment  HOLLYWOOD, CA—The new Jerry Bruckheimer comedy...  \n",
       "2  News In Brief  NEW YORK—According to the Feb. 3 issue of Time...  \n",
       "3  News In Brief  ENID, OK—Andrew Colquitt expressed pride Monda...  \n",
       "4  Entertainment  VAN NUYS, CA—Jonathan Murray, co-executive pro...  "
      ]
     },
     "execution_count": 10,
     "metadata": {},
     "output_type": "execute_result"
    }
   ],
   "source": [
    "df.head()"
   ]
  },
  {
   "cell_type": "code",
   "execution_count": 6,
   "metadata": {},
   "outputs": [],
   "source": [
    "#Display length of dataset\n",
    "\n",
    "def remove_length_outliers(df):\n",
    "    df['length'] = df['article'].apply(lambda x: len(x.split(' ')))\n",
    "\n",
    "    #Remove outliers\n",
    "    max_quantile = df['length'].quantile(0.99)\n",
    "    df = df[df['length'] < max_quantile]\n",
    "\n",
    "    #Still we need to remove short articles\n",
    "    df = df[df['length'] > 50]\n",
    "\n",
    "    return df\n",
    "\n",
    "\n",
    "def display_length_density(df):\n",
    "\n",
    "    fig = sns.displot(df['length'], kde=True, bins=100)\n",
    "    fig.set(xlabel='Length of article', ylabel='Count')\n",
    "    fig.ax.set_title(f'Length density of articles (Total: {len(df)}))')\n",
    "    #show max and min length\n",
    "    fig.ax.text(0.8, 0.9, f'Max: {df[\"length\"].max()}', transform=fig.ax.transAxes)\n",
    "    fig.ax.text(0.8, 0.85, f'Min: {df[\"length\"].min()}', transform=fig.ax.transAxes)\n",
    "    plt.show()"
   ]
  },
  {
   "cell_type": "code",
   "execution_count": 7,
   "metadata": {},
   "outputs": [],
   "source": [
    "#Preprocess the dataset (remove outliers)\n",
    "#df = pd.read_csv('the_onion/articles.csv')\n",
    "#df = remove_length_outliers(df)\n",
    "#df.to_csv('the_onion/articles_processed.csv', index=False)"
   ]
  },
  {
   "cell_type": "code",
   "execution_count": 8,
   "metadata": {},
   "outputs": [
    {
     "data": {
      "image/png": "[encoded data removed]",
      "text/plain": [
       "<Figure size 500x500 with 1 Axes>"
      ]
     },
     "metadata": {},
     "output_type": "display_data"
    }
   ],
   "source": [
    "display_length_density(df)"
   ]
  },
  {
   "cell_type": "code",
   "execution_count": 10,
   "metadata": {},
   "outputs": [],
   "source": [
    "def display_theme_density(df):\n",
    "    fig = sns.displot(df['theme'], kde=True, bins=100)\n",
    "    fig.set(xlabel='Theme', ylabel='Count')\n",
    "    fig.ax.set_title(f'Theme density of articles (Total: {len(df)}))')\n",
    "    plt.show()"
   ]
  },
  {
   "cell_type": "code",
   "execution_count": 15,
   "metadata": {},
   "outputs": [
    {
     "name": "stdout",
     "output_type": "stream",
     "text": [
      "Number of different themes: 40\n",
      "News In Brief              7358\n",
      "Sports                     3908\n",
      "Local                      3576\n",
      "Politics                   2949\n",
      "News                       1645\n",
      "Entertainment              1617\n",
      "Infographic                1097\n",
      "Commentary                  904\n",
      "Slideshow                   446\n",
      "American Voices             318\n",
      "OGN                         308\n",
      "Breaking News               187\n",
      "Football                     93\n",
      "News With Video              72\n",
      "Basketball                   40\n",
      "Podcasts                     40\n",
      "Baseball                     35\n",
      "Opinion                      16\n",
      "Interactive                  15\n",
      "Our Annual Year 2021         14\n",
      "Our Annual Year 2022         13\n",
      "Ask the Experts              11\n",
      "Strongside/Weakside           9\n",
      "Reviews                       7\n",
      "Golf                          6\n",
      "Featurette                    6\n",
      "Podcast                       5\n",
      "Gift Guide                    5\n",
      "Interview                     4\n",
      "Previews                      3\n",
      "Special Coverage              3\n",
      "Horse Racing                  2\n",
      "Hockey                        2\n",
      "News In Photos                2\n",
      "Horoscopes                    1\n",
      "Onion Sponsored Content       1\n",
      "Sponsored                     1\n",
      "Test Sweatshop                1\n",
      "Cartoons                      1\n",
      "TikTok                        1\n",
      "Name: theme, dtype: int64\n"
     ]
    }
   ],
   "source": [
    "def theme_count(df):\n",
    "    #Number of different themes\n",
    "    print(f'Number of different themes: {len(df[\"theme\"].unique())}')\n",
    "    print(df['theme'].value_counts())\n",
    "\n",
    "theme_count(df)"
   ]
  },
  {
   "cell_type": "code",
   "execution_count": null,
   "metadata": {},
   "outputs": [],
   "source": []
  }
 ],
 "metadata": {
  "kernelspec": {
   "display_name": "ml9",
   "language": "python",
   "name": "python3"
  },
  "language_info": {
   "codemirror_mode": {
    "name": "ipython",
    "version": 3
   },
   "file_extension": ".py",
   "mimetype": "text/x-python",
   "name": "python",
   "nbconvert_exporter": "python",
   "pygments_lexer": "ipython3",
   "version": "3.9.15"
  },
  "orig_nbformat": 4
 },
 "nbformat": 4,
 "nbformat_minor": 2
}
