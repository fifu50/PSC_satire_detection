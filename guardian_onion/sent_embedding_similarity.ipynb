{
 "cells": [
  {
   "cell_type": "code",
   "execution_count": 1,
   "metadata": {},
   "outputs": [],
   "source": [
    "import tensorflow as tf\n",
    "\n",
    "import tensorflow_hub as hub\n",
    "import matplotlib.pyplot as plt\n",
    "import numpy as np\n",
    "import os\n",
    "import pandas as pd\n",
    "import re\n",
    "import seaborn as sns\n",
    "\n",
    "# Importing our own functions\n",
    "import standardize_datasets\n",
    "from utils import confusion_matrix_improved\n",
    "\n",
    "from sklearn.model_selection import train_test_split\n",
    "from sklearn.neighbors import KNeighborsClassifier\n",
    "from sklearn.metrics import accuracy_score\n",
    "\n",
    "from tqdm import tqdm"
   ]
  },
  {
   "cell_type": "code",
   "execution_count": 13,
   "metadata": {},
   "outputs": [],
   "source": [
    "from pympler import summary, muppy"
   ]
  },
  {
   "cell_type": "code",
   "execution_count": 14,
   "metadata": {},
   "outputs": [
    {
     "name": "stdout",
     "output_type": "stream",
     "text": [
      "                        types |   # objects |   total size\n",
      "============================= | =========== | ============\n",
      "    pandas.core.series.Series |           4 |    742.87 MB\n",
      "  pandas.core.frame.DataFrame |           2 |    421.97 MB\n",
      "                          str |      359906 |     58.61 MB\n",
      "                         dict |      123770 |     39.36 MB\n",
      "                         code |       90193 |     15.29 MB\n",
      "                         type |       12923 |     11.35 MB\n",
      "                        tuple |       98768 |      5.51 MB\n",
      "                numpy.ndarray |         140 |      4.00 MB\n",
      "                         list |       31821 |      3.95 MB\n",
      "                          set |        4828 |      2.87 MB\n",
      "                      weakref |       21372 |      1.47 MB\n",
      "                  abc.ABCMeta |        1279 |      1.31 MB\n",
      "                         cell |       31831 |      1.21 MB\n",
      "            getset_descriptor |       15001 |    937.56 KB\n",
      "   builtin_function_or_method |       13282 |    933.89 KB\n"
     ]
    }
   ],
   "source": [
    "allObjects = muppy.get_objects()\n",
    "sum1 = summary.summarize(allObjects)\n",
    "summary.print_(sum1)\n"
   ]
  },
  {
   "cell_type": "code",
   "execution_count": 2,
   "metadata": {},
   "outputs": [
    {
     "name": "stdout",
     "output_type": "stream",
     "text": [
      "Metal device set to: Apple M1 Pro\n",
      "\n",
      "systemMemory: 16.00 GB\n",
      "maxCacheSize: 5.33 GB\n",
      "\n"
     ]
    },
    {
     "name": "stderr",
     "output_type": "stream",
     "text": [
      "2023-04-22 17:22:41.967163: I tensorflow/core/common_runtime/pluggable_device/pluggable_device_factory.cc:305] Could not identify NUMA node of platform GPU ID 0, defaulting to 0. Your kernel may not have been built with NUMA support.\n",
      "2023-04-22 17:22:41.967271: I tensorflow/core/common_runtime/pluggable_device/pluggable_device_factory.cc:271] Created TensorFlow device (/job:localhost/replica:0/task:0/device:GPU:0 with 0 MB memory) -> physical PluggableDevice (device: 0, name: METAL, pci bus id: <undefined>)\n",
      "2023-04-22 17:22:44.170345: W tensorflow/core/platform/profile_utils/cpu_utils.cc:128] Failed to get CPU frequency: 0 Hz\n",
      "2023-04-22 17:22:44.228563: I tensorflow/core/grappler/optimizers/custom_graph_optimizer_registry.cc:113] Plugin optimizer for device_type GPU is enabled.\n"
     ]
    }
   ],
   "source": [
    "module_url = \"https://tfhub.dev/google/universal-sentence-encoder/4\"\n",
    "model_embedding = hub.load(module_url)"
   ]
  },
  {
   "attachments": {},
   "cell_type": "markdown",
   "metadata": {},
   "source": [
    "# Get the dataset"
   ]
  },
  {
   "cell_type": "code",
   "execution_count": 3,
   "metadata": {},
   "outputs": [
    {
     "data": {
      "text/html": [
       "<div>\n",
       "<style scoped>\n",
       "    .dataframe tbody tr th:only-of-type {\n",
       "        vertical-align: middle;\n",
       "    }\n",
       "\n",
       "    .dataframe tbody tr th {\n",
       "        vertical-align: top;\n",
       "    }\n",
       "\n",
       "    .dataframe thead th {\n",
       "        text-align: right;\n",
       "    }\n",
       "</style>\n",
       "<table border=\"1\" class=\"dataframe\">\n",
       "  <thead>\n",
       "    <tr style=\"text-align: right;\">\n",
       "      <th></th>\n",
       "      <th>article</th>\n",
       "      <th>headline</th>\n",
       "      <th>label</th>\n",
       "    </tr>\n",
       "  </thead>\n",
       "  <tbody>\n",
       "    <tr>\n",
       "      <th>0</th>\n",
       "      <td>David Cameron is being urged to respond to a r...</td>\n",
       "      <td>PM urged to reopen free movement discussion if...</td>\n",
       "      <td>1</td>\n",
       "    </tr>\n",
       "    <tr>\n",
       "      <th>1</th>\n",
       "      <td>Now the UK supermarkets know Amazon is coming ...</td>\n",
       "      <td>Whole Foods, then a whole industry? Amazon sin...</td>\n",
       "      <td>1</td>\n",
       "    </tr>\n",
       "    <tr>\n",
       "      <th>2</th>\n",
       "      <td>The Science &amp;amp; Tech feature (“What if virtu...</td>\n",
       "      <td>If we’re in a simulation, why bother doing any...</td>\n",
       "      <td>1</td>\n",
       "    </tr>\n",
       "    <tr>\n",
       "      <th>3</th>\n",
       "      <td>London Irish’s 20-year membership of English r...</td>\n",
       "      <td>Luke Narraway vows to fight as London Irish aw...</td>\n",
       "      <td>1</td>\n",
       "    </tr>\n",
       "    <tr>\n",
       "      <th>4</th>\n",
       "      <td>Beekeepers in the Northeast have reported seei...</td>\n",
       "      <td>Northeast Sees Rise Of Mutant ‘Zombie’ Bees</td>\n",
       "      <td>0</td>\n",
       "    </tr>\n",
       "  </tbody>\n",
       "</table>\n",
       "</div>"
      ],
      "text/plain": [
       "                                             article  \\\n",
       "0  David Cameron is being urged to respond to a r...   \n",
       "1  Now the UK supermarkets know Amazon is coming ...   \n",
       "2  The Science &amp; Tech feature (“What if virtu...   \n",
       "3  London Irish’s 20-year membership of English r...   \n",
       "4  Beekeepers in the Northeast have reported seei...   \n",
       "\n",
       "                                            headline  label  \n",
       "0  PM urged to reopen free movement discussion if...      1  \n",
       "1  Whole Foods, then a whole industry? Amazon sin...      1  \n",
       "2  If we’re in a simulation, why bother doing any...      1  \n",
       "3  Luke Narraway vows to fight as London Irish aw...      1  \n",
       "4        Northeast Sees Rise Of Mutant ‘Zombie’ Bees      0  "
      ]
     },
     "execution_count": 3,
     "metadata": {},
     "output_type": "execute_result"
    }
   ],
   "source": [
    "df = standardize_datasets.get_merge_dataset()\n",
    "df.head()"
   ]
  },
  {
   "cell_type": "code",
   "execution_count": 4,
   "metadata": {},
   "outputs": [],
   "source": [
    "#Split data into train and test\n",
    "X_train, X_test, y_train, y_test = train_test_split(df['article'], df['label'], test_size=0.2, random_state=42)"
   ]
  },
  {
   "cell_type": "code",
   "execution_count": 5,
   "metadata": {},
   "outputs": [
    {
     "data": {
      "text/plain": [
       "(57653, 14414)"
      ]
     },
     "execution_count": 5,
     "metadata": {},
     "output_type": "execute_result"
    }
   ],
   "source": [
    "len(X_train), len(X_test)"
   ]
  },
  {
   "cell_type": "markdown",
   "metadata": {},
   "source": [
    "# Classification using similarity between sentence embeddings"
   ]
  },
  {
   "cell_type": "code",
   "execution_count": 6,
   "metadata": {},
   "outputs": [
    {
     "name": "stderr",
     "output_type": "stream",
     "text": [
      "2023-04-22 17:22:49.397000: I tensorflow/core/grappler/optimizers/custom_graph_optimizer_registry.cc:113] Plugin optimizer for device_type GPU is enabled.\n"
     ]
    }
   ],
   "source": [
    "false_sent = np.array(X_train[y_train == 0].values[:1000])\n",
    "true_sent = np.array(X_train[y_train == 1].values[:1000])\n",
    "\n",
    "false_sent_embeddings = model_embedding(false_sent)\n",
    "true_sent_embeddings = model_embedding(true_sent)\n",
    "\n",
    "X_test = X_test.values[:200]\n",
    "y_test = y_test.values[:200]"
   ]
  },
  {
   "cell_type": "code",
   "execution_count": 7,
   "metadata": {},
   "outputs": [],
   "source": [
    "class SimilarityModel:\n",
    "    fit = False\n",
    "    true_sent = None\n",
    "    false_sent = None\n",
    "    model_embedding = None\n",
    "\n",
    "    def __init__(self, _model_embedding):\n",
    "        self.model_embedding = _model_embedding\n",
    "        pass\n",
    "\n",
    "    def fit(self, true_sent, false_sent):\n",
    "        self.true_sent = true_sent\n",
    "        self.false_sent = false_sent\n",
    "        self.fit = True\n",
    "    \n",
    "    def predict(self, sent):\n",
    "        if not self.fit:\n",
    "            raise Exception(\"Model not fitted\")\n",
    "        \n",
    "        sent_embeddings = model_embedding(sent)\n",
    "        false_sim = np.inner(model_embedding(self.false_sent), sent_embeddings)\n",
    "        true_sim = np.inner(model_embedding(self.true_sent), sent_embeddings)\n",
    "        # For each return 1 if true_sim > false_sim else 0\n",
    "        return np.mean(true_sim, axis=0) > np.mean(false_sim, axis=0)"
   ]
  },
  {
   "cell_type": "code",
   "execution_count": 8,
   "metadata": {},
   "outputs": [],
   "source": [
    "model = SimilarityModel(model_embedding)"
   ]
  },
  {
   "cell_type": "code",
   "execution_count": 9,
   "metadata": {},
   "outputs": [],
   "source": [
    "model.fit(true_sent, false_sent)"
   ]
  },
  {
   "cell_type": "code",
   "execution_count": 10,
   "metadata": {},
   "outputs": [],
   "source": [
    "def performance(model, tfidf_test, y_test):\n",
    "    y_pred = model.predict(tfidf_test)\n",
    "    confusion_matrix_improved(y_test, y_pred)\n",
    "    plt.title(f'Confusion matrix. Accuracy: {accuracy_score(y_test, y_pred):.3f}')"
   ]
  },
  {
   "cell_type": "code",
   "execution_count": 11,
   "metadata": {},
   "outputs": [
    {
     "data": {
      "image/png": "[encoded data removed]",
      "text/plain": [
       "<Figure size 640x480 with 2 Axes>"
      ]
     },
     "metadata": {},
     "output_type": "display_data"
    }
   ],
   "source": [
    "performance(model, X_test, y_test)"
   ]
  },
  {
   "cell_type": "code",
   "execution_count": null,
   "metadata": {},
   "outputs": [],
   "source": []
  }
 ],
 "metadata": {
  "kernelspec": {
   "display_name": "ml9",
   "language": "python",
   "name": "python3"
  },
  "language_info": {
   "codemirror_mode": {
    "name": "ipython",
    "version": 3
   },
   "file_extension": ".py",
   "mimetype": "text/x-python",
   "name": "python",
   "nbconvert_exporter": "python",
   "pygments_lexer": "ipython3",
   "version": "3.9.15"
  },
  "orig_nbformat": 4
 },
 "nbformat": 4,
 "nbformat_minor": 2
}
